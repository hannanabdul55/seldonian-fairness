{
 "cells": [
  {
   "cell_type": "code",
   "execution_count": 3,
   "metadata": {},
   "outputs": [
    {
     "ename": "ImportError",
     "evalue": "attempted relative import with no known parent package",
     "output_type": "error",
     "traceback": [
      "\u001b[0;31m---------------------------------------------------------------------------\u001b[0m",
      "\u001b[0;31mImportError\u001b[0m                               Traceback (most recent call last)",
      "\u001b[0;32m<ipython-input-3-2b67ecd189a5>\u001b[0m in \u001b[0;36m<module>\u001b[0;34m\u001b[0m\n\u001b[1;32m      4\u001b[0m \u001b[0;32mimport\u001b[0m \u001b[0mpickle\u001b[0m\u001b[0;34m\u001b[0m\u001b[0;34m\u001b[0m\u001b[0m\n\u001b[1;32m      5\u001b[0m \u001b[0;32mimport\u001b[0m \u001b[0mglob\u001b[0m\u001b[0;34m\u001b[0m\u001b[0;34m\u001b[0m\u001b[0m\n\u001b[0;32m----> 6\u001b[0;31m \u001b[0;32mfrom\u001b[0m \u001b[0;34m.\u001b[0m\u001b[0;34m.\u001b[0m\u001b[0mexperiment\u001b[0m\u001b[0;34m.\u001b[0m\u001b[0mplot_results\u001b[0m \u001b[0;32mimport\u001b[0m \u001b[0;34m*\u001b[0m\u001b[0;34m\u001b[0m\u001b[0;34m\u001b[0m\u001b[0m\n\u001b[0m",
      "\u001b[0;31mImportError\u001b[0m: attempted relative import with no known parent package"
     ]
    }
   ],
   "source": [
    "%matplotlib inline\n",
    "import numpy as np\n",
    "import matplotlib.pyplot as plt\n",
    "import pickle\n",
    "import glob\n",
    "from experiment.plot_results import *"
   ]
  },
  {
   "cell_type": "markdown",
   "metadata": {},
   "source": [
    "# Powell parallel run with soft barrier "
   ]
  },
  {
   "cell_type": "code",
   "execution_count": null,
   "metadata": {},
   "outputs": [],
   "source": [
    "folder = 'result_powell_30trials'\n",
    "\n",
    "config = pickle.load(open(folder + \"/config.p\", \"rb\"))\n",
    "exps = pickle.load(open(folder + \"/exps.p\", \"rb\"))\n",
    "res = pickle.load(open(list(glob.glob(folder + '/final_res*.p'))[0], 'rb'))\n",
    "print(config)"
   ]
  },
  {
   "cell_type": "code",
   "execution_count": null,
   "metadata": {},
   "outputs": [],
   "source": [
    "x =[]\n",
    "sol_found_c = []\n",
    "sol_found_c_std = []\n",
    "\n",
    "\n",
    "ghat_c = []\n",
    "ghat_uc = []\n",
    "\n",
    "fr_c = []\n",
    "fr_c_std = []\n",
    "\n",
    "fr_uc = []\n",
    "fr_uc_std = []\n",
    "\n",
    "opt = 'Powell'\n",
    "\n",
    "acc_c = []\n",
    "acc_uc = []\n",
    "for r in res:\n",
    "    x.append(r['N'])\n",
    "    fr_c.append(r['failure_rate'])\n",
    "    fr_uc.append(r['uc_failure_rate'])\n",
    "\n",
    "    fr_c_std.append(r['failure_rate_std'])\n",
    "    fr_uc_std.append(r['uc_failure_rate_std'])\n",
    "    \n",
    "    sol_found_c.append(r['sol_found_rate'])\n",
    "    sol_found_c_std.append(r['sol_found_rate_std'])\n",
    "\n",
    "    acc_c.append(r['accuracy'])\n",
    "    acc_uc.append(r['uc_accuracy'])\n",
    "\n",
    "    ghat_c.append(r['ghat'])\n",
    "    ghat_uc.append(r['uc_ghat'])\n",
    "\n",
    "plt.plot(x, fr_c, label='Constrained failure rate')\n",
    "plt.plot(x, fr_uc, label='Unconstrained failure rate')\n",
    "plt.xlabel('Number of data points')\n",
    "plt.ylabel('failure rate')\n",
    "plt.legend()\n",
    "plt.title(f\"[{opt}]Plot for number of data points vs failure rate\")\n",
    "plt.show()\n",
    "\n",
    "plt.plot(x, sol_found_c, label='Solution Found Rate')\n",
    "plt.errorbar(x, sol_found_c, yerr=sol_found_c_std)\n",
    "plt.xlabel('Number of data points')\n",
    "plt.ylabel('Probability of solution found')\n",
    "plt.legend()\n",
    "plt.title(f\"[{opt}]Plot for number of data points vs Pr(Solution Found)\")\n",
    "plt.show()\n",
    "\n",
    "plt.plot(x, ghat_c, label='Constrained ghat')\n",
    "plt.plot(x, ghat_uc, label='Unconstrained ghat')\n",
    "plt.xlabel('Number of data points')\n",
    "plt.ylabel('mean ghat')\n",
    "plt.legend()\n",
    "plt.title(f\"[{opt}]Plot for number of data points vs mean ghat\")\n",
    "plt.show()\n",
    "\n",
    "plt.plot(x, acc_c, label='Constrained accuracy')\n",
    "plt.plot(x, acc_uc, label='Unconstrained accuracy')\n",
    "plt.xlabel('Number of data points')\n",
    "plt.ylabel('Accuracy')\n",
    "plt.legend()\n",
    "plt.title(f\"[{opt}]Plot for number of data points vs accuracy\")\n",
    "plt.show()"
   ]
  },
  {
   "cell_type": "markdown",
   "metadata": {},
   "source": [
    "# Hard barrier powell for 30 trials"
   ]
  },
  {
   "cell_type": "code",
   "execution_count": null,
   "metadata": {},
   "outputs": [],
   "source": [
    "from plot_results import *"
   ]
  },
  {
   "cell_type": "code",
   "execution_count": null,
   "metadata": {},
   "outputs": [],
   "source": [
    "folder = 'result_powell_30trials_hardbarrier'\n",
    "\n",
    "config = pickle.load(open(folder + \"/config.p\", \"rb\"))\n",
    "exps = pickle.load(open(folder + \"/exps.p\", \"rb\"))\n",
    "res = pickle.load(open(list(glob.glob(folder + '/final_res*.p'))[0], 'rb'))\n",
    "plot_results(res, config['opt'])"
   ]
  },
  {
   "cell_type": "markdown",
   "metadata": {},
   "source": [
    "# Powell soft barrier"
   ]
  },
  {
   "cell_type": "code",
   "execution_count": null,
   "metadata": {},
   "outputs": [],
   "source": [
    "folder = 'result_powell_soft_barrier'\n",
    "\n",
    "config = pickle.load(open(folder + \"/config.p\", \"rb\"))\n",
    "exps = pickle.load(open(folder + \"/exps.p\", \"rb\"))\n",
    "res = pickle.load(open(list(glob.glob(folder + '/final_res*.p'))[0], 'rb'))\n",
    "plot_results(res, config['opt'])"
   ]
  },
  {
   "cell_type": "markdown",
   "metadata": {},
   "source": [
    "# CMAES results"
   ]
  },
  {
   "cell_type": "code",
   "execution_count": null,
   "metadata": {},
   "outputs": [],
   "source": [
    "folder = 'result_cmaes_30trials'\n",
    "\n",
    "config = pickle.load(open(folder + \"/config.p\", \"rb\"))\n",
    "exps = pickle.load(open(folder + \"/exps.p\", \"rb\"))\n",
    "res = pickle.load(open(list(glob.glob(folder + '/final_res*.p'))[0], 'rb'))\n",
    "plot_results(res, config['opt'])"
   ]
  },
  {
   "cell_type": "markdown",
   "metadata": {},
   "source": [
    "# Hardbarrier week7 nfor 30 trials without stratification"
   ]
  },
  {
   "cell_type": "code",
   "execution_count": null,
   "metadata": {},
   "outputs": [],
   "source": [
    "folder = 'result_powell_50tr_30n'\n",
    "\n",
    "config = pickle.load(open(folder + \"/config.p\", \"rb\"))\n",
    "exps = pickle.load(open(folder + \"/exps.p\", \"rb\"))\n",
    "res = pickle.load(open(list(glob.glob(folder + '/final_res*.p'))[0], 'rb'))\n",
    "plot_results(res, config['opt'])"
   ]
  },
  {
   "cell_type": "markdown",
   "metadata": {},
   "source": [
    "# Hardbarrier week7 for 30 trials with stratification"
   ]
  },
  {
   "cell_type": "code",
   "execution_count": null,
   "metadata": {},
   "outputs": [],
   "source": [
    "folder = 'result_powell_50tr_30n_stratify'\n",
    "\n",
    "config = pickle.load(open(folder + \"/config.p\", \"rb\"))\n",
    "exps = pickle.load(open(folder + \"/exps.p\", \"rb\"))\n",
    "res = pickle.load(open(list(glob.glob(folder + '/final_res*.p'))[0], 'rb'))\n",
    "plot_results(res, config['opt'])"
   ]
  },
  {
   "cell_type": "markdown",
   "metadata": {},
   "source": [
    "# Hardbarrier week7 for 100 trials without stratification"
   ]
  },
  {
   "cell_type": "code",
   "execution_count": null,
   "metadata": {},
   "outputs": [],
   "source": [
    "folder = 'result_powell_100tr_30n'\n",
    "\n",
    "config = pickle.load(open(folder + \"/config.p\", \"rb\"))\n",
    "exps = pickle.load(open(folder + \"/exps.p\", \"rb\"))\n",
    "res = pickle.load(open(list(glob.glob(folder + '/final_res*.p'))[0], 'rb'))\n",
    "plot_results(res, config['opt'])"
   ]
  },
  {
   "cell_type": "markdown",
   "metadata": {},
   "source": [
    "# Hardbarrier week7 for 100 trials with stratification"
   ]
  },
  {
   "cell_type": "code",
   "execution_count": null,
   "metadata": {},
   "outputs": [],
   "source": [
    "folder = 'result_powell_100tr_30n_stratify'\n",
    "\n",
    "config = pickle.load(open(folder + \"/config.p\", \"rb\"))\n",
    "exps = pickle.load(open(folder + \"/exps.p\", \"rb\"))\n",
    "res = pickle.load(open(list(glob.glob(folder + '/final_res*.p'))[0], 'rb'))\n",
    "plot_results(res, config['opt'])"
   ]
  },
  {
   "cell_type": "code",
   "execution_count": null,
   "metadata": {},
   "outputs": [],
   "source": []
  }
 ],
 "metadata": {
  "kernelspec": {
   "display_name": "Python 3",
   "language": "python",
   "name": "python3"
  },
  "language_info": {
   "codemirror_mode": {
    "name": "ipython",
    "version": 3
   },
   "file_extension": ".py",
   "mimetype": "text/x-python",
   "name": "python",
   "nbconvert_exporter": "python",
   "pygments_lexer": "ipython3",
   "version": "3.8.5"
  }
 },
 "nbformat": 4,
 "nbformat_minor": 4
}
