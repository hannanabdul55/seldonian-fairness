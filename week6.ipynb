{
 "cells": [
  {
   "cell_type": "code",
   "execution_count": 1,
   "metadata": {},
   "outputs": [],
   "source": [
    "%load_ext autoreload\n",
    "%autoreload 2"
   ]
  },
  {
   "cell_type": "code",
   "execution_count": 2,
   "metadata": {},
   "outputs": [],
   "source": [
    "from seldonian import *\n",
    "\n",
    "import numpy as np\n",
    "from bounds import *\n",
    "from objectives import *\n",
    "from sklearn.metrics import *\n",
    "from sklearn.linear_model import LogisticRegression\n",
    "\n",
    "import matplotlib.pyplot as plt\n",
    "from scipy.stats import cumfreq\n",
    "\n",
    "import pandas as pd\n",
    "from tempeh.configurations import datasets\n",
    "\n",
    "from IPython.display import display, HTML, Markdown\n",
    "\n",
    "from sklearn import preprocessing\n",
    "\n",
    "%matplotlib inline\n"
   ]
  },
  {
   "cell_type": "code",
   "execution_count": 3,
   "metadata": {},
   "outputs": [
    {
     "data": {
      "text/html": [
       "<div>\n",
       "<style scoped>\n",
       "    .dataframe tbody tr th:only-of-type {\n",
       "        vertical-align: middle;\n",
       "    }\n",
       "\n",
       "    .dataframe tbody tr th {\n",
       "        vertical-align: top;\n",
       "    }\n",
       "\n",
       "    .dataframe thead th {\n",
       "        text-align: right;\n",
       "    }\n",
       "</style>\n",
       "<table border=\"1\" class=\"dataframe\">\n",
       "  <thead>\n",
       "    <tr style=\"text-align: right;\">\n",
       "      <th></th>\n",
       "      <th>lsat</th>\n",
       "      <th>ugpa</th>\n",
       "      <th>pass_bar</th>\n",
       "      <th>race</th>\n",
       "    </tr>\n",
       "  </thead>\n",
       "  <tbody>\n",
       "    <tr>\n",
       "      <th>0</th>\n",
       "      <td>38.0</td>\n",
       "      <td>3.1</td>\n",
       "      <td>1</td>\n",
       "      <td>white</td>\n",
       "    </tr>\n",
       "    <tr>\n",
       "      <th>1</th>\n",
       "      <td>45.0</td>\n",
       "      <td>2.6</td>\n",
       "      <td>1</td>\n",
       "      <td>white</td>\n",
       "    </tr>\n",
       "    <tr>\n",
       "      <th>2</th>\n",
       "      <td>36.0</td>\n",
       "      <td>3.6</td>\n",
       "      <td>1</td>\n",
       "      <td>white</td>\n",
       "    </tr>\n",
       "    <tr>\n",
       "      <th>3</th>\n",
       "      <td>37.0</td>\n",
       "      <td>3.5</td>\n",
       "      <td>1</td>\n",
       "      <td>white</td>\n",
       "    </tr>\n",
       "    <tr>\n",
       "      <th>4</th>\n",
       "      <td>47.0</td>\n",
       "      <td>3.3</td>\n",
       "      <td>1</td>\n",
       "      <td>white</td>\n",
       "    </tr>\n",
       "    <tr>\n",
       "      <th>...</th>\n",
       "      <td>...</td>\n",
       "      <td>...</td>\n",
       "      <td>...</td>\n",
       "      <td>...</td>\n",
       "    </tr>\n",
       "    <tr>\n",
       "      <th>13703</th>\n",
       "      <td>36.0</td>\n",
       "      <td>3.3</td>\n",
       "      <td>1</td>\n",
       "      <td>white</td>\n",
       "    </tr>\n",
       "    <tr>\n",
       "      <th>13704</th>\n",
       "      <td>34.0</td>\n",
       "      <td>3.5</td>\n",
       "      <td>1</td>\n",
       "      <td>white</td>\n",
       "    </tr>\n",
       "    <tr>\n",
       "      <th>13705</th>\n",
       "      <td>37.0</td>\n",
       "      <td>3.5</td>\n",
       "      <td>1</td>\n",
       "      <td>white</td>\n",
       "    </tr>\n",
       "    <tr>\n",
       "      <th>13706</th>\n",
       "      <td>40.0</td>\n",
       "      <td>3.3</td>\n",
       "      <td>1</td>\n",
       "      <td>white</td>\n",
       "    </tr>\n",
       "    <tr>\n",
       "      <th>13707</th>\n",
       "      <td>41.0</td>\n",
       "      <td>3.4</td>\n",
       "      <td>1</td>\n",
       "      <td>white</td>\n",
       "    </tr>\n",
       "  </tbody>\n",
       "</table>\n",
       "<p>13708 rows × 4 columns</p>\n",
       "</div>"
      ],
      "text/plain": [
       "       lsat  ugpa  pass_bar   race\n",
       "0      38.0   3.1         1  white\n",
       "1      45.0   2.6         1  white\n",
       "2      36.0   3.6         1  white\n",
       "3      37.0   3.5         1  white\n",
       "4      47.0   3.3         1  white\n",
       "...     ...   ...       ...    ...\n",
       "13703  36.0   3.3         1  white\n",
       "13704  34.0   3.5         1  white\n",
       "13705  37.0   3.5         1  white\n",
       "13706  40.0   3.3         1  white\n",
       "13707  41.0   3.4         1  white\n",
       "\n",
       "[13708 rows x 4 columns]"
      ]
     },
     "metadata": {},
     "output_type": "display_data"
    }
   ],
   "source": [
    "dataset = datasets['lawschool_passbar']()\n",
    "\n",
    "# Load data\n",
    "X_train, X_test = dataset.get_X(format=pd.DataFrame)\n",
    "y_train, y_test = dataset.get_y(format=pd.Series)\n",
    "A_train, A_test = dataset.get_sensitive_features(name='race', format=pd.Series)\n",
    "\n",
    "# Combine all training data into a single data frame and glance at a few rows\n",
    "all_train = pd.concat([X_train, y_train, A_train], axis=1)\n",
    "\n",
    "display(all_train)"
   ]
  },
  {
   "cell_type": "code",
   "execution_count": 4,
   "metadata": {},
   "outputs": [],
   "source": [
    "def compare_cdfs(data, A, num_bins=100):\n",
    "    cdfs = {}\n",
    "    assert len(np.unique(A)) == 2\n",
    "\n",
    "    limits = (min(data), max(data))\n",
    "    s = 0.5 * (limits[1] - limits[0]) / (num_bins - 1)\n",
    "    limits = (limits[0] - s, limits[1] + s)\n",
    "\n",
    "    for a in np.unique(A):\n",
    "        subset = data[A == a]\n",
    "\n",
    "        cdfs[a] = cumfreq(subset, numbins=num_bins, defaultreallimits=limits)\n",
    "\n",
    "    lower_limits = [v.lowerlimit for _, v in cdfs.items()]\n",
    "    bin_sizes = [v.binsize for _, v in cdfs.items()]\n",
    "    actual_num_bins = [v.cumcount.size for _, v in cdfs.items()]\n",
    "\n",
    "    assert len(np.unique(lower_limits)) == 1\n",
    "    assert len(np.unique(bin_sizes)) == 1\n",
    "    assert np.all([num_bins == v.cumcount.size for _, v in cdfs.items()])\n",
    "\n",
    "    xs = lower_limits[0] + np.linspace(0, bin_sizes[0] * num_bins, num_bins)\n",
    "\n",
    "    disparities = np.zeros(num_bins)\n",
    "    for i in range(num_bins):\n",
    "        cdf_values = np.clip([v.cumcount[i] / len(data[A == k]) for k, v in cdfs.items()], 0, 1)\n",
    "        disparities[i] = max(cdf_values) - min(cdf_values)\n",
    "\n",
    "    return xs, cdfs, disparities\n",
    "\n",
    "\n",
    "def plot_and_compare_cdfs(data, A, num_bins=100, loc='best'):\n",
    "    xs, cdfs, disparities = compare_cdfs(data, A, num_bins)\n",
    "\n",
    "    for k, v in cdfs.items():\n",
    "        plt.plot(xs, v.cumcount / len(data[A == k]), label=k)\n",
    "\n",
    "    assert disparities.argmax().size == 1\n",
    "    d_idx = disparities.argmax()\n",
    "\n",
    "    xs_line = [xs[d_idx], xs[d_idx]]\n",
    "    counts = [v.cumcount[d_idx] / len(data[A == k]) for k, v in cdfs.items()]\n",
    "    ys_line = [min(counts), max(counts)]\n",
    "\n",
    "    plt.plot(xs_line, ys_line, 'o--')\n",
    "    disparity_label = \"max disparity = {0:.3f}\\nat {1:0.3f}\".format(disparities[d_idx], xs[d_idx])\n",
    "    plt.text(xs[d_idx], 1, disparity_label, ha=\"right\", va=\"top\")\n",
    "\n",
    "    plt.xlabel(data.name)\n",
    "    plt.ylabel(\"cumulative frequency\")\n",
    "    plt.legend(loc=loc)\n",
    "    plt.show()"
   ]
  },
  {
   "cell_type": "code",
   "execution_count": 32,
   "metadata": {},
   "outputs": [
    {
     "data": {
      "text/html": [
       "<div>\n",
       "<style scoped>\n",
       "    .dataframe tbody tr th:only-of-type {\n",
       "        vertical-align: middle;\n",
       "    }\n",
       "\n",
       "    .dataframe tbody tr th {\n",
       "        vertical-align: top;\n",
       "    }\n",
       "\n",
       "    .dataframe thead th {\n",
       "        text-align: right;\n",
       "    }\n",
       "</style>\n",
       "<table border=\"1\" class=\"dataframe\">\n",
       "  <thead>\n",
       "    <tr style=\"text-align: right;\">\n",
       "      <th></th>\n",
       "      <th>count</th>\n",
       "      <th>pass_bar_rate</th>\n",
       "    </tr>\n",
       "    <tr>\n",
       "      <th>race</th>\n",
       "      <th></th>\n",
       "      <th></th>\n",
       "    </tr>\n",
       "  </thead>\n",
       "  <tbody>\n",
       "    <tr>\n",
       "      <th>black</th>\n",
       "      <td>880</td>\n",
       "      <td>0.780682</td>\n",
       "    </tr>\n",
       "    <tr>\n",
       "      <th>white</th>\n",
       "      <td>12828</td>\n",
       "      <td>0.968428</td>\n",
       "    </tr>\n",
       "  </tbody>\n",
       "</table>\n",
       "</div>"
      ],
      "text/plain": [
       "       count  pass_bar_rate\n",
       "race                       \n",
       "black    880       0.780682\n",
       "white  12828       0.968428"
      ]
     },
     "metadata": {},
     "output_type": "display_data"
    }
   ],
   "source": [
    "all_train_grouped = all_train.groupby('race')\n",
    "\n",
    "counts_by_race = all_train_grouped[['lsat']].count().rename(\n",
    "    columns={'lsat': 'count'})\n",
    "\n",
    "rates_by_race = all_train_grouped[['pass_bar']].mean().rename(\n",
    "    columns={'pass_bar': 'pass_bar_rate'})\n",
    "\n",
    "summary_by_race = pd.concat([counts_by_race, rates_by_race], axis=1)\n",
    "display(summary_by_race)"
   ]
  },
  {
   "cell_type": "markdown",
   "metadata": {},
   "source": [
    "# plot statistics from the dataset"
   ]
  },
  {
   "cell_type": "code",
   "execution_count": 6,
   "metadata": {},
   "outputs": [
    {
     "name": "stderr",
     "output_type": "stream",
     "text": [
      "\n",
      "A value is trying to be set on a copy of a slice from a DataFrame.\n",
      "Try using .loc[row_indexer,col_indexer] = value instead\n",
      "\n",
      "See the caveats in the documentation: https://pandas.pydata.org/pandas-docs/stable/user_guide/indexing.html#returning-a-view-versus-a-copy\n",
      "\n",
      "A value is trying to be set on a copy of a slice from a DataFrame.\n",
      "Try using .loc[row_indexer,col_indexer] = value instead\n",
      "\n",
      "See the caveats in the documentation: https://pandas.pydata.org/pandas-docs/stable/user_guide/indexing.html#returning-a-view-versus-a-copy\n"
     ]
    }
   ],
   "source": [
    "# Load data\n",
    "X_train, X_test = dataset.get_X(format=pd.DataFrame)\n",
    "y_train, y_test = dataset.get_y(format=pd.Series)\n",
    "A_train, A_test = dataset.get_sensitive_features(name='race', format=pd.Series)\n",
    "\n",
    "# Combine all training data into a single data frame and glance at a few rows\n",
    "all_train_raw = pd.concat([X_train, A_train, y_train], axis=1)\n",
    "all_test_raw = pd.concat([X_test, A_test, y_test], axis=1)\n",
    "\n",
    "all_data = pd.concat([all_train_raw, all_test_raw], axis=0)\n",
    "\n",
    "X = all_data[['lsat', 'ugpa', 'race']]\n",
    "y = all_data[['pass_bar']]\n",
    "le = preprocessing.LabelEncoder()\n",
    "X.loc[:,'race'] = le.fit_transform(X['race'])\n",
    "scaler = preprocessing.StandardScaler()\n",
    "X.loc[:,['lsat', 'ugpa']] = scaler.fit_transform(X[['lsat', 'ugpa']])\n",
    "A = X['race']\n",
    "A_idx = 'race'"
   ]
  },
  {
   "cell_type": "code",
   "execution_count": 7,
   "metadata": {},
   "outputs": [
    {
     "data": {
      "text/html": [
       "<div>\n",
       "<style scoped>\n",
       "    .dataframe tbody tr th:only-of-type {\n",
       "        vertical-align: middle;\n",
       "    }\n",
       "\n",
       "    .dataframe tbody tr th {\n",
       "        vertical-align: top;\n",
       "    }\n",
       "\n",
       "    .dataframe thead th {\n",
       "        text-align: right;\n",
       "    }\n",
       "</style>\n",
       "<table border=\"1\" class=\"dataframe\">\n",
       "  <thead>\n",
       "    <tr style=\"text-align: right;\">\n",
       "      <th></th>\n",
       "      <th>count</th>\n",
       "      <th>(lsat, 25%)</th>\n",
       "      <th>(lsat, 50%)</th>\n",
       "      <th>(lsat, 75%)</th>\n",
       "      <th>(ugpa, 25%)</th>\n",
       "      <th>(ugpa, 50%)</th>\n",
       "      <th>(ugpa, 75%)</th>\n",
       "      <th>pass_bar_rate</th>\n",
       "    </tr>\n",
       "    <tr>\n",
       "      <th>race</th>\n",
       "      <th></th>\n",
       "      <th></th>\n",
       "      <th></th>\n",
       "      <th></th>\n",
       "      <th></th>\n",
       "      <th></th>\n",
       "      <th></th>\n",
       "      <th></th>\n",
       "    </tr>\n",
       "  </thead>\n",
       "  <tbody>\n",
       "    <tr>\n",
       "      <th>black</th>\n",
       "      <td>1346</td>\n",
       "      <td>25.0</td>\n",
       "      <td>29.0</td>\n",
       "      <td>33.0</td>\n",
       "      <td>2.6</td>\n",
       "      <td>2.9</td>\n",
       "      <td>3.2</td>\n",
       "      <td>0.778603</td>\n",
       "    </tr>\n",
       "    <tr>\n",
       "      <th>white</th>\n",
       "      <td>19114</td>\n",
       "      <td>34.0</td>\n",
       "      <td>38.0</td>\n",
       "      <td>41.0</td>\n",
       "      <td>3.0</td>\n",
       "      <td>3.3</td>\n",
       "      <td>3.6</td>\n",
       "      <td>0.967092</td>\n",
       "    </tr>\n",
       "  </tbody>\n",
       "</table>\n",
       "</div>"
      ],
      "text/plain": [
       "       count  (lsat, 25%)  (lsat, 50%)  (lsat, 75%)  (ugpa, 25%)  (ugpa, 50%)  \\\n",
       "race                                                                            \n",
       "black   1346         25.0         29.0         33.0          2.6          2.9   \n",
       "white  19114         34.0         38.0         41.0          3.0          3.3   \n",
       "\n",
       "       (ugpa, 75%)  pass_bar_rate  \n",
       "race                               \n",
       "black          3.2       0.778603  \n",
       "white          3.6       0.967092  "
      ]
     },
     "metadata": {},
     "output_type": "display_data"
    }
   ],
   "source": [
    "all_train_grouped = all_data.groupby('race')\n",
    "\n",
    "counts_by_race = all_train_grouped[['lsat']].count().rename(\n",
    "    columns={'lsat': 'count'})\n",
    "\n",
    "quartiles_by_race = all_train_grouped[['lsat', 'ugpa']].quantile([.25, .50, .75]).rename(\n",
    "    index={0.25: \"25%\", 0.5: \"50%\", 0.75: \"75%\"}, level=1).unstack()\n",
    "\n",
    "rates_by_race = all_train_grouped[['pass_bar']].mean().rename(\n",
    "    columns={'pass_bar': 'pass_bar_rate'})\n",
    "\n",
    "summary_by_race = pd.concat([counts_by_race, quartiles_by_race, rates_by_race], axis=1)\n",
    "display(summary_by_race)"
   ]
  },
  {
   "cell_type": "code",
   "execution_count": 8,
   "metadata": {},
   "outputs": [
    {
     "name": "stdout",
     "output_type": "stream",
     "text": [
      "93.42130987292278% of the labels for 'race' is 'white'\n"
     ]
    },
    {
     "data": {
      "text/html": [
       "<div>\n",
       "<style scoped>\n",
       "    .dataframe tbody tr th:only-of-type {\n",
       "        vertical-align: middle;\n",
       "    }\n",
       "\n",
       "    .dataframe tbody tr th {\n",
       "        vertical-align: top;\n",
       "    }\n",
       "\n",
       "    .dataframe thead th {\n",
       "        text-align: right;\n",
       "    }\n",
       "</style>\n",
       "<table border=\"1\" class=\"dataframe\">\n",
       "  <thead>\n",
       "    <tr style=\"text-align: right;\">\n",
       "      <th></th>\n",
       "      <th>lsat</th>\n",
       "      <th>ugpa</th>\n",
       "      <th>race</th>\n",
       "    </tr>\n",
       "  </thead>\n",
       "  <tbody>\n",
       "    <tr>\n",
       "      <th>0</th>\n",
       "      <td>0.177166</td>\n",
       "      <td>-0.334896</td>\n",
       "      <td>1</td>\n",
       "    </tr>\n",
       "    <tr>\n",
       "      <th>1</th>\n",
       "      <td>1.483968</td>\n",
       "      <td>-1.543483</td>\n",
       "      <td>1</td>\n",
       "    </tr>\n",
       "    <tr>\n",
       "      <th>2</th>\n",
       "      <td>-0.196205</td>\n",
       "      <td>0.873692</td>\n",
       "      <td>1</td>\n",
       "    </tr>\n",
       "    <tr>\n",
       "      <th>3</th>\n",
       "      <td>-0.009520</td>\n",
       "      <td>0.631974</td>\n",
       "      <td>1</td>\n",
       "    </tr>\n",
       "    <tr>\n",
       "      <th>4</th>\n",
       "      <td>1.857340</td>\n",
       "      <td>0.148539</td>\n",
       "      <td>1</td>\n",
       "    </tr>\n",
       "    <tr>\n",
       "      <th>...</th>\n",
       "      <td>...</td>\n",
       "      <td>...</td>\n",
       "      <td>...</td>\n",
       "    </tr>\n",
       "    <tr>\n",
       "      <th>6747</th>\n",
       "      <td>1.297282</td>\n",
       "      <td>-1.301765</td>\n",
       "      <td>1</td>\n",
       "    </tr>\n",
       "    <tr>\n",
       "      <th>6748</th>\n",
       "      <td>-0.382891</td>\n",
       "      <td>0.148539</td>\n",
       "      <td>1</td>\n",
       "    </tr>\n",
       "    <tr>\n",
       "      <th>6749</th>\n",
       "      <td>-0.942949</td>\n",
       "      <td>0.631974</td>\n",
       "      <td>1</td>\n",
       "    </tr>\n",
       "    <tr>\n",
       "      <th>6750</th>\n",
       "      <td>-0.009520</td>\n",
       "      <td>-1.060048</td>\n",
       "      <td>1</td>\n",
       "    </tr>\n",
       "    <tr>\n",
       "      <th>6751</th>\n",
       "      <td>-1.129635</td>\n",
       "      <td>-0.576613</td>\n",
       "      <td>1</td>\n",
       "    </tr>\n",
       "  </tbody>\n",
       "</table>\n",
       "<p>20460 rows × 3 columns</p>\n",
       "</div>"
      ],
      "text/plain": [
       "          lsat      ugpa  race\n",
       "0     0.177166 -0.334896     1\n",
       "1     1.483968 -1.543483     1\n",
       "2    -0.196205  0.873692     1\n",
       "3    -0.009520  0.631974     1\n",
       "4     1.857340  0.148539     1\n",
       "...        ...       ...   ...\n",
       "6747  1.297282 -1.301765     1\n",
       "6748 -0.382891  0.148539     1\n",
       "6749 -0.942949  0.631974     1\n",
       "6750 -0.009520 -1.060048     1\n",
       "6751 -1.129635 -0.576613     1\n",
       "\n",
       "[20460 rows x 3 columns]"
      ]
     },
     "metadata": {},
     "output_type": "display_data"
    }
   ],
   "source": [
    "A_p = np.sum(A)/A.shape[0]\n",
    "print(f\"{A_p*100}% of the labels for 'race' is 'white'\")\n",
    "display(X)"
   ]
  },
  {
   "cell_type": "code",
   "execution_count": 9,
   "metadata": {},
   "outputs": [],
   "source": [
    "# pass bar rate should be equal for race='white' or race='balck'\n",
    "def create_tpr_ghat(A_idx, A_val):\n",
    "    def tpr_ab(X, y_true, y_pred, delta, n=None):\n",
    "        tp_a = tpr_rate(A_idx, 1)(X, y_true, y_pred)\n",
    "        tp = tpr_rate(A_idx, 0)(X, y_true, y_pred)\n",
    "        if method == 'ttest':\n",
    "            bound = abs(ttest_bounds(tp, delta, n) - ttest_bounds(tp_a, delta, n))\n",
    "        else:\n",
    "            bound = abs(hoeffdings_bounds(tp, delta, n) - hoeffdings_bounds(tp_a, delta, n))\n",
    "        return bound.upper - 0.3\n",
    "    return tpr_ab\n",
    "A_idx= 2 \n",
    "tpr_ab = create_tpr_ghat(A_idx, 1)"
   ]
  },
  {
   "cell_type": "code",
   "execution_count": 10,
   "metadata": {},
   "outputs": [],
   "source": [
    "#Construct the ghat\n",
    "ghats = []\n",
    "ghats.append({\n",
    "        'fn': tpr_ab,\n",
    "        'delta': 0.05\n",
    "    })\n",
    "\n",
    "method='ttest'\n",
    "op_method = 'Powell'"
   ]
  },
  {
   "cell_type": "code",
   "execution_count": 11,
   "metadata": {},
   "outputs": [
    {
     "name": "stdout",
     "output_type": "stream",
     "text": [
      "Optimization terminated successfully.\n",
      "         Current function value: 8.420856\n",
      "         Iterations: 4\n",
      "         Function evaluations: 522\n",
      "Optimization result: Optimization terminated successfully.\n",
      "Accuracy: 0.5947945200032407\n",
      "\n"
     ]
    }
   ],
   "source": [
    "estimator = LogisticRegressionSeldonianModel(X.to_numpy(), y.to_numpy().flatten(), g_hats=ghats).fit(\n",
    "        opt=op_method)\n",
    "print(f\"Accuracy: {balanced_accuracy_score(y, estimator.predict(X))}\\n\")"
   ]
  },
  {
   "cell_type": "markdown",
   "metadata": {},
   "source": [
    "## $\\hat{g}$ result for the constrained optimizer"
   ]
  },
  {
   "cell_type": "code",
   "execution_count": 21,
   "metadata": {},
   "outputs": [
    {
     "name": "stdout",
     "output_type": "stream",
     "text": [
      "mean ghat value: -0.0048198973552900926\n"
     ]
    }
   ],
   "source": [
    "print(f\"mean ghat value: {tpr_ab(X.to_numpy(), y.to_numpy().flatten(), estimator.predict(X), delta=0.05)}\")"
   ]
  },
  {
   "cell_type": "markdown",
   "metadata": {},
   "source": [
    "## $\\hat{g}$ for constrained estimator using CMAES"
   ]
  },
  {
   "cell_type": "code",
   "execution_count": 22,
   "metadata": {},
   "outputs": [
    {
     "name": "stdout",
     "output_type": "stream",
     "text": [
      "Max number of iters: 1000\n",
      "max iterations: 16000\n",
      "Current evaluation: 10024\t average loss:0.6833955838465434 \n",
      "\n",
      "Stopping early after no change in 1008 iterations !!\n",
      "\n",
      "Accuracy: 0.4537854534447306\n",
      "\n",
      "mean ghat value: -0.11565917528511899\n"
     ]
    }
   ],
   "source": [
    "estimator_cmaes = SeldonianAlgorithmLogRegCMAES(X.to_numpy(), y.to_numpy().flatten(), g_hats=ghats, verbose=True)\n",
    "estimator_cmaes.fit()\n",
    "print(f\"\\nAccuracy: {balanced_accuracy_score(y, estimator_cmaes.predict(X))}\\n\")\n",
    "\n",
    "print(f\"mean ghat value: {tpr_ab(X.to_numpy(), y.to_numpy().flatten(), estimator_cmaes.predict(X), delta=0.05)}\")"
   ]
  },
  {
   "cell_type": "markdown",
   "metadata": {},
   "source": [
    "## $\\hat{g}$ for unconstrained optimizer using `scipy.optimize` package"
   ]
  },
  {
   "cell_type": "code",
   "execution_count": 23,
   "metadata": {},
   "outputs": [
    {
     "name": "stdout",
     "output_type": "stream",
     "text": [
      "Optimization terminated successfully.\n",
      "         Current function value: 0.156320\n",
      "         Iterations: 9\n",
      "         Function evaluations: 434\n",
      "Optimization result: Optimization terminated successfully.\n",
      "Accuracy: 0.5266121708892941\n",
      "\n",
      "mean ghat value: 0.5598497611186035\n"
     ]
    }
   ],
   "source": [
    "uc_estimator = LogisticRegressionSeldonianModel(X.to_numpy(), y.to_numpy().flatten(), g_hats=[]).fit(\n",
    "        opt=op_method)\n",
    "print(f\"Accuracy: {balanced_accuracy_score(y, uc_estimator.predict(X))}\\n\")\n",
    "\n",
    "print(f\"mean ghat value: {tpr_ab(X.to_numpy(), y.to_numpy().flatten(), uc_estimator.predict(X), delta=0.05)}\")"
   ]
  },
  {
   "cell_type": "markdown",
   "metadata": {},
   "source": [
    "## $\\hat{g}$ for unconstrained CMA-ES optimizer"
   ]
  },
  {
   "cell_type": "code",
   "execution_count": 25,
   "metadata": {},
   "outputs": [
    {
     "name": "stdout",
     "output_type": "stream",
     "text": [
      "Max number of iters: 1000\n",
      "max iterations: 16000\n",
      "Current evaluation: 2016\t average loss:0.15580481614806882 \n",
      "\n",
      "Stopping early after no change in 1008 iterations !!\n",
      "Accuracy: 0.5182125610347902\n",
      "\n",
      "mean ghat value: 0.5594203561313207\n"
     ]
    }
   ],
   "source": [
    "uc_estimator_cmaes = LogisticRegressionCMAES(X.to_numpy(), y.to_numpy().flatten(), verbose=True)\n",
    "uc_estimator_cmaes.fit()\n",
    "print(f\"Accuracy: {balanced_accuracy_score(y, uc_estimator_cmaes.predict(X))}\\n\")\n",
    "print(f\"mean ghat value: {tpr_ab(X.to_numpy(), y.to_numpy().flatten(), uc_estimator_cmaes.predict(X), delta=0.05)}\")"
   ]
  },
  {
   "cell_type": "markdown",
   "metadata": {},
   "source": [
    "# Sklearn estimator"
   ]
  },
  {
   "cell_type": "code",
   "execution_count": 27,
   "metadata": {},
   "outputs": [
    {
     "name": "stdout",
     "output_type": "stream",
     "text": [
      "Accuracy: 0.5266121708892941\n",
      "\n",
      "mean ghat value: 0.5594203561313207\n"
     ]
    }
   ],
   "source": [
    "logreg_sk = LogisticRegression().fit(X.to_numpy(),y.to_numpy().flatten())\n",
    "print(f\"Accuracy: {balanced_accuracy_score(y, uc_estimator.predict(X))}\\n\")\n",
    "print(f\"mean ghat value: {tpr_ab(X.to_numpy(), y.to_numpy().flatten(), logreg_sk.predict(X), delta=0.05)}\")"
   ]
  },
  {
   "cell_type": "code",
   "execution_count": null,
   "metadata": {},
   "outputs": [],
   "source": []
  }
 ],
 "metadata": {
  "kernelspec": {
   "display_name": "Python 3",
   "language": "python",
   "name": "python3"
  },
  "language_info": {
   "codemirror_mode": {
    "name": "ipython",
    "version": 3
   },
   "file_extension": ".py",
   "mimetype": "text/x-python",
   "name": "python",
   "nbconvert_exporter": "python",
   "pygments_lexer": "ipython3",
   "version": "3.8.5"
  }
 },
 "nbformat": 4,
 "nbformat_minor": 1
}
