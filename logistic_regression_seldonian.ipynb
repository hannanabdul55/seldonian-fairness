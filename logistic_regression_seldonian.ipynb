{
 "cells": [
  {
   "cell_type": "markdown",
   "metadata": {
    "colab_type": "text",
    "id": "view-in-github"
   },
   "source": [
    "<a href=\"https://colab.research.google.com/github/hannanabdul55/seldonian-fairness/blob/master/logistic_regression_seldonian.ipynb\" target=\"_parent\"><img src=\"https://colab.research.google.com/assets/colab-badge.svg\" alt=\"Open In Colab\"/></a>"
   ]
  },
  {
   "cell_type": "markdown",
   "metadata": {
    "pycharm": {
     "name": "#%% md\n"
    }
   },
   "source": [
    "# Seldonian Model example usage notebook\n",
    "This notebook shows the usage of the `seldonian` library to train a `LogisticRegression` classifier on the [UCI Adult Income Dataset](https://archive.ics.uci.edu/ml/datasets/adult)"
   ]
  },
  {
   "cell_type": "code",
   "execution_count": 1,
   "metadata": {
    "id": "hdWz82x7LuPa"
   },
   "outputs": [],
   "source": [
    "try:\n",
    "    import seldonian\n",
    "except:\n",
    "    !pip install seldonian\n",
    "import torch\n",
    "import numpy as np\n",
    "try:\n",
    "    import shap\n",
    "except:\n",
    "    !pip install shap\n",
    "\n",
    "from sklearn.model_selection import train_test_split\n",
    "import matplotlib.pyplot as plt\n",
    "from sklearn.metrics import accuracy_score\n",
    "\n",
    "from seldonian.seldonian import *\n",
    "from seldonian.objectives import ghat_tpr_diff, ghat_recall_rate"
   ]
  },
  {
   "cell_type": "markdown",
   "metadata": {
    "pycharm": {
     "name": "#%% md\n"
    }
   },
   "source": [
    "# Dataset\n",
    "We use the `shap` library to import the preprocessed version of the Adult data. "
   ]
  },
  {
   "cell_type": "code",
   "execution_count": 2,
   "metadata": {
    "id": "miqDzE-GN1NV"
   },
   "outputs": [],
   "source": [
    "X, y = shap.datasets.adult()\n",
    "X_d, y_d = shap.datasets.adult(display=True)"
   ]
  },
  {
   "cell_type": "markdown",
   "metadata": {},
   "source": [
    "# Dataset statistics\n",
    "Here, we plot the counts of each category of a column that you can specify in the cell below. This column will be used as the sensitive attribute in the rest of the notebook."
   ]
  },
  {
   "cell_type": "code",
   "execution_count": 3,
   "metadata": {
    "pycharm": {
     "name": "#%%\n"
    }
   },
   "outputs": [],
   "source": [
    "A = 'Sex'"
   ]
  },
  {
   "cell_type": "code",
   "execution_count": 4,
   "metadata": {
    "pycharm": {
     "name": "#%%\n"
    }
   },
   "outputs": [
    {
     "data": {
      "image/png": "[encoded data removed]",
      "text/plain": [
       "<Figure size 432x288 with 1 Axes>"
      ]
     },
     "metadata": {
      "needs_background": "light"
     },
     "output_type": "display_data"
    }
   ],
   "source": [
    "grps = X_d.groupby(A)\n",
    "counts = {}\n",
    "for k,v in grps:\n",
    "    counts[k] = v.shape[0]\n",
    "plt.bar(counts.keys(), counts.values())\n",
    "plt.title(f\"Counts of number of samples of each category in column {A}\")\n",
    "plt.show()"
   ]
  },
  {
   "cell_type": "markdown",
   "metadata": {},
   "source": [
    "# Constraint definition\n",
    "\n",
    "In the Seldonian Approach, the safety constraints are defined as a tuple $(g_i, \\delta_i) \\forall i \\in m$ , where there are $m$ safety constraints.  $g: \\Theta \\to \\mathbb{R}$ is a function that quantifies the desirability of a solution and $\\delta$ is the permissive probability of returning an undesirable/unsafe solution.  \n",
    "\n",
    "Hence, if $f(\\theta, D)$ is the original minimization optimization objective where $D$ is the data, then the new Seldonian objective function is: \n",
    "$$\\arg_{\\theta}\\min f(\\theta, D) \\quad \\quad \\quad \\text{s.t. } \\Pr(g_i(\\theta, D) \\le 0 ) \\ge 1- \\delta_i \\quad \\forall i \\in m  $$  \n",
    "\n",
    "The trianing is a 3 step-process: \n",
    "- **Dataset split**: The input training data, $D$, is split into 2 sets - the candidate set, $D_{c}$, and the safety set, $D_{s}$.\n",
    "- **Candidate selection** - This is the step executed when the `fit` method is called on the Seldonian Model. This method runs the optimization objective with the safety constraints using _only_ the data $D_c$. Since $D_s$ is not available at this step, we _predict_ the upper bound on $g(\\theta, D_s)$, let's call it $\\hat{g}(\\theta, D_c)$ using concentration inequalities like $ttest$ or _Hoeffding's_ bounds. \n",
    "- **Safety test** - This step is used to run the trained parameters, $\\theta_c$ from the candidate selection step and calculate $g(\\theta_c, D_s)$.  \n",
    "\n",
    "Here we set `g_hats` as a list of $g(\\theta)$'s where each item is a dictionary with the `fn` key is assigned a function callable that calculates $g_i(\\theta)$ and the $\\delta_i$.  \n",
    "\n",
    "In this case, we have only one constraint which is the recall constraint on the `Sex` category in the dataset. This constraint is also known as `EqualizedOdds` constraint from [Hardt et.al 2016](https://proceedings.neurips.cc/paper/2016/file/9d2682367c3935defcb1f9e247a97c0d-Paper.pdf). The constraint is written as  \n",
    "\n",
    "$$g(\\theta) = |\\Pr(f(\\theta, X)=y |Y=y, A = Male) - \\Pr(f(\\theta, X)=y |Y=y, A = Female)| - 0.05 $$  \n",
    "\n",
    "where `X` is the input features, `A` is the sensitive feature (`Sex` in this case) and `Y` is the target/prediction. The `0.05` is the maximum value that is permissible.  \n",
    "\n",
    "Hence, this constraint upper bounds the absolute difference between the individual accuracy for each category of the sensitive attributes to `0.05`.  \n",
    "\n",
    "We also split the entire dataset to a trainj and test set. Note that the test set here is _different_ from the safety set used within the Seldonian Algorithm.\n"
   ]
  },
  {
   "cell_type": "code",
   "execution_count": 5,
   "metadata": {
    "id": "sZQ3yM1kMb0L"
   },
   "outputs": [],
   "source": [
    "A_idx = list(X.columns).index(A)\n",
    "X = X.to_numpy()\n",
    "X_tr, X_te, y_tr,y_te = train_test_split(X, y, test_size=0.3, random_state=42)\n",
    "g_hats = [{\n",
    "    'fn': ghat_recall_rate(A_idx, threshold=0.05),\n",
    "    'delta': 0.05\n",
    "}]"
   ]
  },
  {
   "cell_type": "markdown",
   "metadata": {},
   "source": [
    "## Training the Seldonian Logistic Regression Model\n",
    "The call to `model.fit()` run the candidate selection step and get the $\\theta_c$ parameter. "
   ]
  },
  {
   "cell_type": "code",
   "execution_count": 6,
   "metadata": {
    "colab": {
     "base_uri": "https://localhost:8080/"
    },
    "id": "QhRS04sDOb2U",
    "outputId": "d469095a-1f47-4d4e-9494-b1614b395326"
   },
   "outputs": [
    {
     "name": "stdout",
     "output_type": "stream",
     "text": [
      "Optimization terminated successfully.\n",
      "         Current function value: 5.436154\n",
      "         Iterations: 11\n",
      "         Function evaluations: 4370\n",
      "Optimization result: Optimization terminated successfully.\n"
     ]
    },
    {
     "data": {
      "text/plain": [
       "<seldonian.seldonian.LogisticRegressionSeldonianModel at 0x7f99850add90>"
      ]
     },
     "execution_count": 6,
     "metadata": {},
     "output_type": "execute_result"
    }
   ],
   "source": [
    "model = LogisticRegressionSeldonianModel(X_tr, y_tr, g_hats=g_hats, test_size=0.2, stratify=True)\n",
    "model.fit()"
   ]
  },
  {
   "cell_type": "markdown",
   "metadata": {},
   "source": [
    "# Safety test\n",
    "The call to `model._safetyTest()` runs the next step i.e.  the _safety test_ on the candidate model $\\theta_c$."
   ]
  },
  {
   "cell_type": "code",
   "execution_count": 7,
   "metadata": {
    "colab": {
     "base_uri": "https://localhost:8080/"
    },
    "id": "komHZE_5Q0cm",
    "outputId": "045ca488-b551-47cc-d12a-05ea1aaad6b6"
   },
   "outputs": [
    {
     "name": "stdout",
     "output_type": "stream",
     "text": [
      "The trained model passed the safety test.\n"
     ]
    }
   ],
   "source": [
    "safe = model._safetyTest()\n",
    "print(f\"The trained model {'failed' if safe>0 else 'passed'} the safety test.\")"
   ]
  },
  {
   "cell_type": "markdown",
   "metadata": {},
   "source": [
    "# Seldonian Model metrics\n",
    "Here, we report the Seldonian Model's accuracy and the violation i.e. the $g(\\theta_c)$ on the test set `X_te`. We can see that the $g(\\theta_c) < 0$. This means the candidate $\\theta_c$ _passed_ the safety test.  "
   ]
  },
  {
   "cell_type": "code",
   "execution_count": 8,
   "metadata": {
    "colab": {
     "base_uri": "https://localhost:8080/"
    },
    "id": "XbEkNNqhtMGc",
    "outputId": "08490545-bbf6-474b-ce88-2651893366de"
   },
   "outputs": [
    {
     "name": "stdout",
     "output_type": "stream",
     "text": [
      "Constrained model accuracy: 0.5873682055481626\n",
      "Constrained model violation: -0.04533351132230197 \n"
     ]
    }
   ],
   "source": [
    "print(f\"Constrained model accuracy: {accuracy_score(y_te, model.predict(X_te))}\")\n",
    "print(f\"Constrained model violation: {ghat_recall_rate(A_idx, threshold=0.05)(X_te, y_te, model.predict(X_te), 0.05, ub=False)} \")"
   ]
  },
  {
   "cell_type": "markdown",
   "metadata": {},
   "source": [
    "# Unconstrained model metrics\n",
    "Now, we compare this model to an unconstrained model trained on the same dataset using scikit learns `LogisticRegression` and the same metrics are then calculated on the test set `X_te`. "
   ]
  },
  {
   "cell_type": "code",
   "execution_count": 9,
   "metadata": {
    "colab": {
     "base_uri": "https://localhost:8080/"
    },
    "id": "6_17W9SytQjg",
    "outputId": "8449a432-5f0e-49a0-f292-6ab189d5a40e"
   },
   "outputs": [],
   "source": [
    "from sklearn.linear_model import LogisticRegression\n",
    "\n",
    "uc_model = LogisticRegression(solver='liblinear', random_state=42).fit(X_tr, y_tr)"
   ]
  },
  {
   "cell_type": "markdown",
   "metadata": {},
   "source": [
    "We can see that the unconstrained model _fails_ the safety test."
   ]
  },
  {
   "cell_type": "code",
   "execution_count": 10,
   "metadata": {
    "colab": {
     "base_uri": "https://localhost:8080/"
    },
    "id": "cKVy7eiLti5r",
    "outputId": "d9633473-404b-4cef-d818-7105bc8fe31f"
   },
   "outputs": [
    {
     "name": "stdout",
     "output_type": "stream",
     "text": [
      "Uncontrained model accuracy: 0.8401064592076978\n",
      "Unconstrained model value of g(\\theta): 0.06859848535359796\n",
      "Hence, this model failed the safety test\n"
     ]
    }
   ],
   "source": [
    "g_theta_test = ghat_recall_rate(A_idx, threshold=0.05)(X_te, y_te, uc_model.predict(X_te), 0.05, ub=False)\n",
    "print(f\"Uncontrained model accuracy: {accuracy_score(y_te, uc_model.predict(X_te))}\")\n",
    "print(f\"Unconstrained model value of g(\\\\theta): {g_theta_test}\")\n",
    "print(f\"Hence, this model {'failed' if g_theta_test >0 else 'passed'} the safety test\")"
   ]
  }
 ],
 "metadata": {
  "colab": {
   "authorship_tag": "ABX9TyPJ5lMrU98iaDTZse+Bu3zn",
   "collapsed_sections": [],
   "include_colab_link": true,
   "name": "logistic_regression_seldonian.ipynb",
   "provenance": []
  },
  "kernelspec": {
   "display_name": "Python 3",
   "language": "python",
   "name": "python3"
  },
  "language_info": {
   "codemirror_mode": {
    "name": "ipython",
    "version": 3
   },
   "file_extension": ".py",
   "mimetype": "text/x-python",
   "name": "python",
   "nbconvert_exporter": "python",
   "pygments_lexer": "ipython3",
   "version": "3.8.5"
  }
 },
 "nbformat": 4,
 "nbformat_minor": 1
}
