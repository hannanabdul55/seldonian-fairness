{
 "nbformat": 4,
 "nbformat_minor": 0,
 "metadata": {
  "colab": {
   "name": "logistic_regression_seldonian.ipynb",
   "provenance": [],
   "collapsed_sections": [],
   "authorship_tag": "ABX9TyPJ5lMrU98iaDTZse+Bu3zn",
   "include_colab_link": true
  },
  "kernelspec": {
   "name": "python3",
   "display_name": "Python 3"
  }
 },
 "cells": [
  {
   "cell_type": "markdown",
   "metadata": {
    "id": "view-in-github",
    "colab_type": "text"
   },
   "source": [
    "<a href=\"https://colab.research.google.com/github/hannanabdul55/seldonian-fairness/blob/master/logistic_regression_seldonian.ipynb\" target=\"_parent\"><img src=\"https://colab.research.google.com/assets/colab-badge.svg\" alt=\"Open In Colab\"/></a>"
   ]
  },
  {
   "cell_type": "code",
   "metadata": {
    "id": "v1CeoI21Lisa"
   },
   "source": [
    "try:\n",
    "    import seldonian\n",
    "except:\n",
    "    !pip install seldonian\n",
    "import torch\n",
    "import numpy as np\n",
    "try:\n",
    "    import shap\n",
    "except:\n",
    "    !pip install shap\n",
    "\n",
    "from sklearn.model_selection import train_test_split\n",
    "import matplotlib.pyplot as plt"
   ],
   "execution_count": 20,
   "outputs": []
  },
  {
   "cell_type": "code",
   "metadata": {
    "id": "hdWz82x7LuPa"
   },
   "source": [
    "from seldonian.seldonian import *\n",
    "from seldonian.objectives import ghat_tpr_diff, ghat_recall_rate"
   ],
   "execution_count": 21,
   "outputs": []
  },
  {
   "cell_type": "code",
   "metadata": {
    "id": "miqDzE-GN1NV"
   },
   "source": [
    "X, y = shap.datasets.adult()\n",
    "X_d, y_d = shap.datasets.adult(display=True)"
   ],
   "execution_count": 32,
   "outputs": []
  },
  {
   "cell_type": "code",
   "metadata": {
    "colab": {
     "base_uri": "https://localhost:8080/",
     "height": 281
    },
    "id": "K38Cn4SfyO4G",
    "outputId": "4a93ed88-5410-4777-e757-5221df94cfeb"
   },
   "source": [
    "A = 'Sex'\n",
    "grps = X_d.groupby(A)\n",
    "counts = {}\n",
    "for k,v in grps:\n",
    "    counts[k] = v.shape[0]\n",
    "plt.bar(counts.keys(), counts.values())\n",
    "plt.title(f\"Counts of number of samples of each category in column {A}\")\n",
    "plt.show()"
   ],
   "execution_count": 33,
   "outputs": [
    {
     "output_type": "display_data",
     "data": {
      "image/png": "[encoded data removed]",
      "text/plain": [
       "<Figure size 432x288 with 1 Axes>"
      ]
     },
     "metadata": {
      "tags": [],
      "needs_background": "light"
     }
    }
   ]
  },
  {
   "cell_type": "code",
   "metadata": {
    "id": "sZQ3yM1kMb0L"
   },
   "source": [
    "A_idx = list(X.columns).index(A)\n",
    "X = X.to_numpy()\n",
    "X_tr, X_te, y_tr,y_te = train_test_split(X, y, test_size=0.2, random_state=42)\n",
    "g_hats = [{\n",
    "    'fn': ghat_recall_rate(A_idx, threshold=0.05),\n",
    "    'delta': 0.05\n",
    "}]"
   ],
   "execution_count": 34,
   "outputs": []
  },
  {
   "cell_type": "code",
   "metadata": {
    "colab": {
     "base_uri": "https://localhost:8080/"
    },
    "id": "QhRS04sDOb2U",
    "outputId": "d469095a-1f47-4d4e-9494-b1614b395326"
   },
   "source": [
    "model = LogisticRegressionSeldonianModel(X_tr, y_tr, g_hats=g_hats, test_size=0.2, stratify=True)\n",
    "model.fit()"
   ],
   "execution_count": 35,
   "outputs": [
    {
     "output_type": "stream",
     "text": [
      "Optimization terminated successfully.\n",
      "         Current function value: 4.212527\n",
      "         Iterations: 10\n",
      "         Function evaluations: 4117\n",
      "Optimization result: Optimization terminated successfully.\n"
     ],
     "name": "stdout"
    },
    {
     "output_type": "execute_result",
     "data": {
      "text/plain": [
       "<seldonian.seldonian.LogisticRegressionSeldonianModel at 0x7fbea8335f60>"
      ]
     },
     "metadata": {
      "tags": []
     },
     "execution_count": 35
    }
   ]
  },
  {
   "cell_type": "code",
   "metadata": {
    "colab": {
     "base_uri": "https://localhost:8080/"
    },
    "id": "komHZE_5Q0cm",
    "outputId": "045ca488-b551-47cc-d12a-05ea1aaad6b6"
   },
   "source": [
    "safe = model._safetyTest()\n",
    "print(f\"The trained model {'failed' if safe>0 else 'passed'} the safety test.\")"
   ],
   "execution_count": 41,
   "outputs": [
    {
     "output_type": "stream",
     "text": [
      "The trained model passed the safety test.\n"
     ],
     "name": "stdout"
    }
   ]
  },
  {
   "cell_type": "code",
   "metadata": {
    "id": "eulMrOa3ROHY"
   },
   "source": [
    "from sklearn.metrics import accuracy_score"
   ],
   "execution_count": 42,
   "outputs": []
  },
  {
   "cell_type": "code",
   "metadata": {
    "colab": {
     "base_uri": "https://localhost:8080/"
    },
    "id": "XbEkNNqhtMGc",
    "outputId": "08490545-bbf6-474b-ce88-2651893366de"
   },
   "source": [
    "print(f\"Constrained model accuracy: {accuracy_score(y_te, model.predict(X_te))}\")\n",
    "print(f\"Constrained model violation: {ghat_recall_rate(A_idx, threshold=0.05)(X_te, y_te, model.predict(X_te), 0.05, ub=False)} \")"
   ],
   "execution_count": 43,
   "outputs": [
    {
     "output_type": "stream",
     "text": [
      "Constrained model accuracy: 0.6166129279901735\n",
      "Constrained model violation: -0.04365867811358333 \n"
     ],
     "name": "stdout"
    }
   ]
  },
  {
   "cell_type": "code",
   "metadata": {
    "colab": {
     "base_uri": "https://localhost:8080/"
    },
    "id": "6_17W9SytQjg",
    "outputId": "8449a432-5f0e-49a0-f292-6ab189d5a40e"
   },
   "source": [
    "from sklearn.linear_model import LogisticRegression\n",
    "\n",
    "uc_model = LogisticRegression(solver='liblinear', random_state=42).fit(X_tr, y_tr)\n",
    "print(f\"Uncontrained model accuracy: {accuracy_score(y_te, uc_model.predict(X_te))}\")"
   ],
   "execution_count": 44,
   "outputs": [
    {
     "output_type": "stream",
     "text": [
      "Uncontrained model accuracy: 0.8395516658989712\n"
     ],
     "name": "stdout"
    }
   ]
  },
  {
   "cell_type": "code",
   "metadata": {
    "colab": {
     "base_uri": "https://localhost:8080/"
    },
    "id": "cKVy7eiLti5r",
    "outputId": "d9633473-404b-4cef-d818-7105bc8fe31f"
   },
   "source": [
    "g_theta_test = ghat_recall_rate(A_idx, threshold=0.05)(X_te, y_te, uc_model.predict(X_te), 0.05, ub=False)\n",
    "print(f\"Unconstrained model value of g(\\\\theta): {g_theta_test}\")\n",
    "print(f\"Hence, this model {'failed' if g_theta_test >0 else 'passed'} the safety test\")"
   ],
   "execution_count": 47,
   "outputs": [
    {
     "output_type": "stream",
     "text": [
      "Unconstrained model value of g(\\theta): 0.05761923591488664\n",
      "Hence, this model failed the safety test\n"
     ],
     "name": "stdout"
    }
   ]
  }
 ]
}